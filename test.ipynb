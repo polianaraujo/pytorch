{
 "cells": [
  {
   "cell_type": "code",
   "execution_count": 5,
   "metadata": {},
   "outputs": [
    {
     "name": "stdout",
     "output_type": "stream",
     "text": [
      "Note: you may need to restart the kernel to use updated packages.\n"
     ]
    },
    {
     "name": "stderr",
     "output_type": "stream",
     "text": [
      "ERROR: Could not find a version that satisfies the requirement torch (from versions: none)\n",
      "ERROR: No matching distribution found for torch\n"
     ]
    }
   ],
   "source": [
    "%pip install torch"
   ]
  },
  {
   "cell_type": "markdown",
   "metadata": {},
   "source": [
    "# How to train our first neural network with PyTorch"
   ]
  },
  {
   "cell_type": "markdown",
   "metadata": {},
   "source": [
    "## How to execute a step forward"
   ]
  },
  {
   "cell_type": "code",
   "execution_count": 3,
   "metadata": {},
   "outputs": [],
   "source": [
    "# - Load from list\n",
    "import torch\n",
    "import numpy as np\n",
    "import torch.nn as nn\n",
    "\n",
    "# lst = [ [1,2,3] , [4,5,6] ]\n",
    "# tensor = torch.tensor(lst)\n",
    "\n",
    "# # - Load from NumPy array\n",
    "# np_array = np.array(array)\n",
    "# np_tensor = torch.from_numpy(nop_array)"
   ]
  },
  {
   "cell_type": "markdown",
   "metadata": {},
   "source": [
    "### Binary classification: forward pass"
   ]
  },
  {
   "cell_type": "code",
   "execution_count": 6,
   "metadata": {},
   "outputs": [
    {
     "data": {
      "text/plain": [
       "tensor([[0.5774],\n",
       "        [0.4423],\n",
       "        [0.5451],\n",
       "        [0.4837],\n",
       "        [0.6442]], grad_fn=<SigmoidBackward0>)"
      ]
     },
     "execution_count": 6,
     "metadata": {},
     "output_type": "execute_result"
    }
   ],
   "source": [
    "# Create input data of shape 5x6\n",
    "input_data = torch.tensor(\n",
    "    [[-0.4421, 1.5207, 2.0607, -0.3647, 0.4691, 0.0946],\n",
    "    [-0.9155, -0.0475, -1.3645, 0.6336, -1.9520, -0.3398],\n",
    "    [0.7406, 1.6763, -0.8511, 0.2432, 0.1123, -0.0633],\n",
    "    [-1.6630, -0.0718, -0.1285, 0.5396, -0.0288, -0.8622],\n",
    "    [-0.7413, 1.7920, -0.0883, -0.6685, 0.4745, -0.4245]])\n",
    "\n",
    "# Create binary classification model\n",
    "model = nn.Sequential(\n",
    "    nn.Linear(6,4), # First Linear layer\n",
    "    nn.Linear(4,1), # First Linear layer\n",
    "    nn.Sigmoid()   # Sigmoid activation function\n",
    ")\n",
    "\n",
    "\"\"\"\n",
    "    - O primeiro argumento da primeira camada corresponde ao\n",
    "    número de neurônios em nossos dados de amostra.\n",
    "    - O primeiro argumento da segunda camada corresponde à\n",
    "    dimensão de saída da primeira camada.\n",
    "\"\"\"\n",
    "\n",
    "# Pass input data through model to obtain the output\n",
    "output = model(input_data)\n",
    "output"
   ]
  },
  {
   "cell_type": "markdown",
   "metadata": {},
   "source": [
    "This output will not be meaningful until we use backpropagation to update the weights and biases of the layers."
   ]
  },
  {
   "cell_type": "markdown",
   "metadata": {},
   "source": [
    "### Multi-class classification: forward pass"
   ]
  },
  {
   "cell_type": "markdown",
   "metadata": {},
   "source": [
    "Digamos que estavmos prevendo três classes: mamífero, ave ou répitil.\n",
    "\n",
    "Especificamos que nosso modelo tem três classes, definindo esse valor como a dimensão de saída da última camada linear."
   ]
  },
  {
   "cell_type": "code",
   "execution_count": 9,
   "metadata": {},
   "outputs": [
    {
     "name": "stdout",
     "output_type": "stream",
     "text": [
      "torch.Size([5, 3])\n"
     ]
    },
    {
     "data": {
      "text/plain": [
       "tensor([[0.2638, 0.3866, 0.3496],\n",
       "        [0.3017, 0.2853, 0.4130],\n",
       "        [0.4274, 0.2649, 0.3077],\n",
       "        [0.2959, 0.3346, 0.3695],\n",
       "        [0.4115, 0.2709, 0.3177]], grad_fn=<SoftmaxBackward0>)"
      ]
     },
     "execution_count": 9,
     "metadata": {},
     "output_type": "execute_result"
    }
   ],
   "source": [
    "# Specify model has three classes\n",
    "n_classes = 3\n",
    "\n",
    "# Create multiclasses classification model\n",
    "model = nn.Sequential(\n",
    "    nn.Linear(6, 4),            # First Linear layer\n",
    "    nn.Linear(4, n_classes),    # Second Linear layer\n",
    "    nn.Softmax(dim=-1)          # Softmax activation, \"-1\" indica que as cinco amostras têm a mesma dimensão que a saída da última camada linear\n",
    ")\n",
    "\n",
    "# Pass input data through model\n",
    "output = model(input_data)\n",
    "print(output.shape)\n",
    "output"
   ]
  },
  {
   "cell_type": "markdown",
   "metadata": {},
   "source": [
    "### Regression: forward pass"
   ]
  },
  {
   "cell_type": "markdown",
   "metadata": {},
   "source": [
    "Previsão de valores numéricos contínuos.\n",
    "\n",
    "Digamos que usamos os mesmos dados sobre cinco animais, mas desta vez estamos prevendo pesos de animais com base em sua propriedades.\n",
    "\n",
    "A diferença é que não há função de ativação no final, e a última dimensão da última camada linear retorna uma saída com um recurso."
   ]
  },
  {
   "cell_type": "code",
   "execution_count": 10,
   "metadata": {},
   "outputs": [
    {
     "name": "stdout",
     "output_type": "stream",
     "text": [
      "tensor([[-0.3416],\n",
      "        [-0.2219],\n",
      "        [-0.2909],\n",
      "        [-0.1067],\n",
      "        [-0.1900]], grad_fn=<AddmmBackward0>)\n"
     ]
    }
   ],
   "source": [
    "# Create regression model\n",
    "model = nn.Sequential(\n",
    "    nn.Linear(6,4),     # First Linear layer\n",
    "    nn.Linear(4,1),     # First Linear layer\n",
    ")\n",
    "\n",
    "# Pass input data through model\n",
    "output = model(input_data)\n",
    "\n",
    "print(output)"
   ]
  },
  {
   "cell_type": "markdown",
   "metadata": {},
   "source": [
    "As dimensões de saída são 5x1: cinco valores contínuos, um para cada linha. "
   ]
  },
  {
   "cell_type": "markdown",
   "metadata": {},
   "source": [
    "## Como criar um classificador binário no PyTorch"
   ]
  }
 ],
 "metadata": {
  "kernelspec": {
   "display_name": "torch",
   "language": "python",
   "name": "python3"
  },
  "language_info": {
   "codemirror_mode": {
    "name": "ipython",
    "version": 3
   },
   "file_extension": ".py",
   "mimetype": "text/x-python",
   "name": "python",
   "nbconvert_exporter": "python",
   "pygments_lexer": "ipython3",
   "version": "3.10.16"
  }
 },
 "nbformat": 4,
 "nbformat_minor": 2
}
